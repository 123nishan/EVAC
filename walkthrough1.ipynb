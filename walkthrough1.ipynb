{
  "cells": [
    {
      "cell_type": "markdown",
      "metadata": {
        "id": "view-in-github",
        "colab_type": "text"
      },
      "source": [
        "<a href=\"https://colab.research.google.com/github/123nishan/EVAC/blob/main/walkthrough1.ipynb\" target=\"_parent\"><img src=\"https://colab.research.google.com/assets/colab-badge.svg\" alt=\"Open In Colab\"/></a>"
      ]
    },
    {
      "cell_type": "markdown",
      "metadata": {
        "id": "44An__-4xP01"
      },
      "source": [
        "# Fundamentals of Evolutionary Algorithms\n",
        "\n",
        "Welcome to the first code walkthrough for EVCO. Here we will be taking a look at the elements that comprise a basic evolutionary algorithm using the package DEAP in Python."
      ]
    },
    {
      "cell_type": "markdown",
      "metadata": {
        "id": "svnAEFPixP02"
      },
      "source": [
        "# Elements to take into account using evolutionary algorithms\n",
        "\n",
        "* **Individual representation**\n",
        "* **Evaluation** and **fitness assignment**\n",
        "\n",
        "The above two are key considerations that need the most thought. But there's also:\n",
        "\n",
        "* **Selection**\n",
        "* **Variation**, produced by applying operators, such as **crossover**, and **mutation**\n",
        "* **Stopping criterion**, that determines when the algorithm shoulod be stopped, either because the optimum was reach or because the optimization process is not progressing."
      ]
    },
    {
      "cell_type": "markdown",
      "metadata": {
        "id": "IoNR-5KrxP03"
      },
      "source": [
        "## The general structure of a generic algorithm\n",
        "\n",
        "    def evolutionary_algorithm():\n",
        "\n",
        "        population = [] # a list with all the individuals in the population\n",
        "\n",
        "        population =  initialize_population(pop_size)\n",
        "        t = 0\n",
        "\n",
        "        while not stop_criterion( population[t] ):\n",
        "            fitnesses = evaluate( population[t] )\n",
        "            populations[t+1] = environmental_selection( population[t], offspring )\n",
        "            offspring = mating_and_mutation( population[t], fitnesses )\n",
        "            t = t+1"
      ]
    },
    {
      "cell_type": "markdown",
      "metadata": {
        "id": "s6D73XFexP03"
      },
      "source": [
        "## DEAP: A Python library for evolutionary computation\n",
        "\n",
        "https://deap.readthedocs.io/en/master/\n",
        "\n",
        "\n"
      ]
    },
    {
      "cell_type": "markdown",
      "metadata": {
        "id": "E6vXP1PXxP04"
      },
      "source": [
        "# Essential features of a DEAP GA\n",
        "\n",
        "- deap.creator: meta-factory allowing to create classes that will fulfill the needs of your evolutionary algorithms.\n",
        "- deap.base.Toolbox: A toolbox for evolution that contains the evolutionary operators. You may populate the toolbox with any other function by using the register() method\n",
        "- deap.base.Fitness([values]): The fitness is a measure of quality of a solution. If values are provided as a tuple, the fitness is initalized using those values, otherwise it is empty (or invalid). You should inherit from this class to define your custom fitnesses."
      ]
    },
    {
      "cell_type": "markdown",
      "source": [
        "# Installing the packages in Colab"
      ],
      "metadata": {
        "id": "h9zAR0cAxo7P"
      }
    },
    {
      "cell_type": "code",
      "source": [
        "!pip install deap"
      ],
      "metadata": {
        "colab": {
          "base_uri": "https://localhost:8080/"
        },
        "id": "S2_ewSjlx4lV",
        "outputId": "38772389-7e2c-4cd0-82cb-deabeb6b595d"
      },
      "execution_count": null,
      "outputs": [
        {
          "output_type": "stream",
          "name": "stdout",
          "text": [
            "Collecting deap\n",
            "  Downloading deap-1.3.1-cp37-cp37m-manylinux_2_5_x86_64.manylinux1_x86_64.manylinux_2_12_x86_64.manylinux2010_x86_64.whl (160 kB)\n",
            "\u001b[?25l\r\u001b[K     |██                              | 10 kB 24.6 MB/s eta 0:00:01\r\u001b[K     |████                            | 20 kB 29.9 MB/s eta 0:00:01\r\u001b[K     |██████                          | 30 kB 28.2 MB/s eta 0:00:01\r\u001b[K     |████████▏                       | 40 kB 21.8 MB/s eta 0:00:01\r\u001b[K     |██████████▏                     | 51 kB 20.1 MB/s eta 0:00:01\r\u001b[K     |████████████▏                   | 61 kB 15.9 MB/s eta 0:00:01\r\u001b[K     |██████████████▎                 | 71 kB 14.9 MB/s eta 0:00:01\r\u001b[K     |████████████████▎               | 81 kB 15.9 MB/s eta 0:00:01\r\u001b[K     |██████████████████▎             | 92 kB 12.9 MB/s eta 0:00:01\r\u001b[K     |████████████████████▍           | 102 kB 14.1 MB/s eta 0:00:01\r\u001b[K     |██████████████████████▍         | 112 kB 14.1 MB/s eta 0:00:01\r\u001b[K     |████████████████████████▍       | 122 kB 14.1 MB/s eta 0:00:01\r\u001b[K     |██████████████████████████▌     | 133 kB 14.1 MB/s eta 0:00:01\r\u001b[K     |████████████████████████████▌   | 143 kB 14.1 MB/s eta 0:00:01\r\u001b[K     |██████████████████████████████▌ | 153 kB 14.1 MB/s eta 0:00:01\r\u001b[K     |████████████████████████████████| 160 kB 14.1 MB/s \n",
            "\u001b[?25hRequirement already satisfied: numpy in /usr/local/lib/python3.7/dist-packages (from deap) (1.19.5)\n",
            "Installing collected packages: deap\n",
            "Successfully installed deap-1.3.1\n"
          ]
        }
      ]
    },
    {
      "cell_type": "markdown",
      "metadata": {
        "id": "dP5NFxvYxP04"
      },
      "source": [
        "# Defining an individual and their representation"
      ]
    },
    {
      "cell_type": "markdown",
      "metadata": {
        "id": "0JgJwZRmxP04"
      },
      "source": [
        "First import the required modules and register the different functions required to create individuals that are a list of floats with a minimizing two objectives fitness."
      ]
    },
    {
      "cell_type": "code",
      "execution_count": null,
      "metadata": {
        "id": "44wq3csKxP04"
      },
      "outputs": [],
      "source": [
        "import random\n",
        "\n",
        "from deap import base\n",
        "from deap import creator\n",
        "from deap import tools"
      ]
    },
    {
      "cell_type": "code",
      "execution_count": null,
      "metadata": {
        "id": "416sWg7gxP05"
      },
      "outputs": [],
      "source": [
        "IND_SIZE = 5"
      ]
    },
    {
      "cell_type": "code",
      "execution_count": null,
      "metadata": {
        "colab": {
          "base_uri": "https://localhost:8080/"
        },
        "id": "ik21sTRWxP05",
        "outputId": "c0b5e944-643f-46c0-aef0-d6e39ee7d7dc"
      },
      "outputs": [
        {
          "output_type": "stream",
          "name": "stderr",
          "text": [
            "/usr/local/lib/python3.7/dist-packages/deap/creator.py:141: RuntimeWarning: A class named 'FitnessMin' has already been created and it will be overwritten. Consider deleting previous creation of that class or rename it.\n",
            "  RuntimeWarning)\n",
            "/usr/local/lib/python3.7/dist-packages/deap/creator.py:141: RuntimeWarning: A class named 'Individual' has already been created and it will be overwritten. Consider deleting previous creation of that class or rename it.\n",
            "  RuntimeWarning)\n"
          ]
        }
      ],
      "source": [
        "creator.create(\"FitnessMin\", base.Fitness, weights=(-1.0,))\n",
        "creator.create(\"Individual\", list, fitness=creator.FitnessMin)\n",
        "\n",
        "toolbox1 = base.Toolbox()\n",
        "toolbox1.register(\"attr_float\", random.random)\n",
        "toolbox1.register(\"individual\", tools.initRepeat, creator.Individual,\n",
        "                 toolbox1.attr_float, n=IND_SIZE)"
      ]
    },
    {
      "cell_type": "markdown",
      "metadata": {
        "id": "EUtc_GMexP05"
      },
      "source": [
        "The first individual can now be constructed"
      ]
    },
    {
      "cell_type": "code",
      "execution_count": null,
      "metadata": {
        "id": "nUTxJbRTxP06"
      },
      "outputs": [],
      "source": [
        "ind1 = toolbox1.individual()"
      ]
    },
    {
      "cell_type": "markdown",
      "metadata": {
        "id": "KMRVj7BlxP06"
      },
      "source": [
        "Printing the individual ind1 and checking if its fitness is valid will give something like this"
      ]
    },
    {
      "cell_type": "code",
      "execution_count": null,
      "metadata": {
        "colab": {
          "base_uri": "https://localhost:8080/"
        },
        "id": "0HR0jt7OxP06",
        "outputId": "810cde52-7868-4560-9625-b3eb9df7a828"
      },
      "outputs": [
        {
          "output_type": "stream",
          "name": "stdout",
          "text": [
            "[0.8571161985106227, 0.8276027255682098, 0.9473506732357823, 0.7516021195312007, 0.23759645678661323]\n"
          ]
        }
      ],
      "source": [
        "print(ind1)"
      ]
    },
    {
      "cell_type": "code",
      "execution_count": null,
      "metadata": {
        "colab": {
          "base_uri": "https://localhost:8080/"
        },
        "id": "aTlFWW-8xP06",
        "outputId": "0ecf8ae3-165a-4513-cbcd-08fca54aed82"
      },
      "outputs": [
        {
          "output_type": "execute_result",
          "data": {
            "text/plain": [
              "False"
            ]
          },
          "metadata": {},
          "execution_count": 54
        }
      ],
      "source": [
        "ind1.fitness.valid"
      ]
    },
    {
      "cell_type": "markdown",
      "metadata": {
        "id": "rZS8zIV_xP06"
      },
      "source": [
        "The individual is printed as its base class representation (here a list) and the fitness is invalid because it contains no values."
      ]
    },
    {
      "cell_type": "markdown",
      "metadata": {
        "id": "DP95HW8XxP07"
      },
      "source": [
        "# Defining a population of individuals"
      ]
    },
    {
      "cell_type": "markdown",
      "metadata": {
        "id": "MmfPiihExP07"
      },
      "source": [
        "We can now register a population in the toolbox to fill with our individuals"
      ]
    },
    {
      "cell_type": "code",
      "execution_count": null,
      "metadata": {
        "id": "XAlVhK0CxP07"
      },
      "outputs": [],
      "source": [
        "toolbox1.register(\"population\", tools.initRepeat, list, toolbox1.individual)"
      ]
    },
    {
      "cell_type": "markdown",
      "metadata": {
        "id": "jEjqVasAxP07"
      },
      "source": [
        "And then use it to create an initial population."
      ]
    },
    {
      "cell_type": "code",
      "execution_count": null,
      "metadata": {
        "id": "8g2Xd_whxP07"
      },
      "outputs": [],
      "source": [
        "pop = toolbox1.population(n=20)"
      ]
    },
    {
      "cell_type": "markdown",
      "metadata": {
        "id": "Skw9YcV1xP08"
      },
      "source": [
        "Let's look at the first individual"
      ]
    },
    {
      "cell_type": "code",
      "execution_count": null,
      "metadata": {
        "colab": {
          "base_uri": "https://localhost:8080/"
        },
        "id": "weckrI_8xP08",
        "outputId": "50918ea3-fba7-4085-b885-7e1edb3f28e5"
      },
      "outputs": [
        {
          "output_type": "stream",
          "name": "stdout",
          "text": [
            "[0.7538828436524245, 0.9828546560102246, 0.12756306085729952, 0.03505213601803203, 0.4692170122703325]\n"
          ]
        }
      ],
      "source": [
        "print( pop[0] )"
      ]
    },
    {
      "cell_type": "markdown",
      "metadata": {
        "id": "hvWZLnFHxP08"
      },
      "source": [
        "# Evaluation and fitness"
      ]
    },
    {
      "cell_type": "markdown",
      "metadata": {
        "id": "TFrbcqpKxP08"
      },
      "source": [
        "The evaluation is the part of the algorithm that evaluates fitness. For some problems evaluation can be done in many different ways, with some being better than others. But this can be a bit of an art and takes some thinking and some experience. In DEAP:\n",
        "- It is the only part of the library that you must always write yourself.\n",
        "- A typical evaluation function takes one individual as argument and return its fitness as a tuple.\n",
        "- A fitness is a list of floating point values and has a property valid to know if this individual shall be re-evaluated\n",
        "- The fitness is set by setting the values to the associated tuple."
      ]
    },
    {
      "cell_type": "markdown",
      "metadata": {
        "id": "8UMYm4M0xP08"
      },
      "source": [
        "For example, the following evaluates the previously created individual ind1 and assign its fitness to the corresponding values."
      ]
    },
    {
      "cell_type": "code",
      "execution_count": null,
      "metadata": {
        "id": "aoAq_6VUxP09"
      },
      "outputs": [],
      "source": [
        "def evaluate(individual):\n",
        "    # Do some computing on the individual\n",
        "    a = sum(individual)\n",
        "    return a,"
      ]
    },
    {
      "cell_type": "markdown",
      "metadata": {
        "id": "Qhdi8CZbxP09"
      },
      "source": [
        "Dealing with single fitness measure is not different in DEAP. The evaluation function must still return a tuple because single-measure fitness is treated as a special case of multi-measure (multi-objective) fitness."
      ]
    },
    {
      "cell_type": "markdown",
      "metadata": {
        "id": "Q9Y6g8IbxP09"
      },
      "source": [
        "To evaluate an individual you can now just call your evaluate function. You pass the full individual, and get back to fitness tuple, which you assign to the individuals fitness value."
      ]
    },
    {
      "cell_type": "code",
      "execution_count": null,
      "metadata": {
        "id": "MLpqcudrxP0-"
      },
      "outputs": [],
      "source": [
        "ind1 = pop[0]\n",
        "ind1.fitness.values = evaluate(ind1)"
      ]
    },
    {
      "cell_type": "code",
      "execution_count": null,
      "metadata": {
        "colab": {
          "base_uri": "https://localhost:8080/"
        },
        "id": "u3HTzZFwxP0-",
        "outputId": "bf9e6432-b069-4565-d49a-3c2708904887"
      },
      "outputs": [
        {
          "output_type": "stream",
          "name": "stdout",
          "text": [
            "True\n"
          ]
        }
      ],
      "source": [
        "print(ind1.fitness.valid)"
      ]
    },
    {
      "cell_type": "code",
      "source": [
        "print(ind1)"
      ],
      "metadata": {
        "colab": {
          "base_uri": "https://localhost:8080/"
        },
        "id": "dNYegave1hPG",
        "outputId": "2add6f3a-c930-486d-ea6f-0527848aee8e"
      },
      "execution_count": null,
      "outputs": [
        {
          "output_type": "stream",
          "name": "stdout",
          "text": [
            "[0.7538828436524245, 0.9828546560102246, 0.12756306085729952, 0.03505213601803203, 0.4692170122703325]\n"
          ]
        }
      ]
    },
    {
      "cell_type": "code",
      "execution_count": null,
      "metadata": {
        "colab": {
          "base_uri": "https://localhost:8080/"
        },
        "id": "1bMTzR4VxP0-",
        "outputId": "22264953-0b03-4db6-f250-f092d6e1bcb2"
      },
      "outputs": [
        {
          "output_type": "execute_result",
          "data": {
            "text/plain": [
              "(2.3685697088083133,)"
            ]
          },
          "metadata": {},
          "execution_count": 63
        }
      ],
      "source": [
        "ind1.fitness.values"
      ]
    },
    {
      "cell_type": "markdown",
      "metadata": {
        "id": "e2ZVfiakxP0-"
      },
      "source": [
        "# Selection"
      ]
    },
    {
      "cell_type": "markdown",
      "metadata": {
        "id": "OVuP3kOkxP0-"
      },
      "source": [
        "Once you have evaluated the fitness of all individuals in the population, you can select the individuals that have a chance to reproduct into the next generation."
      ]
    },
    {
      "cell_type": "markdown",
      "metadata": {
        "id": "tssgz9D3xP0_"
      },
      "source": [
        "- Selection is made among a population by the selection operators that are available in the deap.operators module.\n",
        "- The selection operator usually takes as first argument an iterable container of individuals and the number of individuals to select. It returns a list containing the references to the selected individuals."
      ]
    },
    {
      "cell_type": "markdown",
      "metadata": {
        "id": "qYtB6NyuxP0_"
      },
      "source": [
        "First we must evaluate the fitness of everyone. We only want to evaluate fitness for individuals who have changed. However, noone's fitness will be known in the initial population, so we must first evaluate all individuals."
      ]
    },
    {
      "cell_type": "code",
      "execution_count": null,
      "metadata": {
        "id": "U8nd7X7gxP0_"
      },
      "outputs": [],
      "source": [
        "fitnesses = list(map(evaluate, pop))"
      ]
    },
    {
      "cell_type": "markdown",
      "metadata": {
        "id": "PEDbO08rxP0_"
      },
      "source": [
        "This gives us a list of fitness values corresponding to each individual in the population. Next we assign the fitness to each individual. To do this we use the Python zip command to line up the individuals with their corresponding fitness."
      ]
    },
    {
      "cell_type": "code",
      "execution_count": null,
      "metadata": {
        "id": "3T-n5r-qxP0_"
      },
      "outputs": [],
      "source": [
        "for ind, fit in zip(pop, fitnesses):\n",
        "    ind.fitness.values = fit"
      ]
    },
    {
      "cell_type": "markdown",
      "metadata": {
        "id": "FiQihuZvxP0_"
      },
      "source": [
        "In the following code, we use a naive approach of selecting the top 2 individuals in the population."
      ]
    },
    {
      "cell_type": "code",
      "execution_count": null,
      "metadata": {
        "id": "Ieat74iKxP1A"
      },
      "outputs": [],
      "source": [
        "selected = tools.selBest(pop, 2)"
      ]
    },
    {
      "cell_type": "markdown",
      "metadata": {
        "id": "kGhYuZQ5xP1A"
      },
      "source": [
        "Let's see if individual at position 0 in the population managed to be selected"
      ]
    },
    {
      "cell_type": "code",
      "execution_count": null,
      "metadata": {
        "colab": {
          "base_uri": "https://localhost:8080/"
        },
        "id": "or1SklLyxP1A",
        "outputId": "2ab44c53-5b7e-4ef1-a624-81039afd9e56"
      },
      "outputs": [
        {
          "output_type": "execute_result",
          "data": {
            "text/plain": [
              "False"
            ]
          },
          "metadata": {},
          "execution_count": 68
        }
      ],
      "source": [
        "pop[0] in selected"
      ]
    },
    {
      "cell_type": "code",
      "execution_count": null,
      "metadata": {
        "colab": {
          "base_uri": "https://localhost:8080/"
        },
        "id": "2Rsw6e8ixP1A",
        "outputId": "601a3836-c71d-4996-9442-9d459c06c14f"
      },
      "outputs": [
        {
          "output_type": "stream",
          "name": "stdout",
          "text": [
            "[[0.10060012310488087, 0.09960504783783908, 0.04542252139172431, 0.3696849278002188, 0.47667540673527486], [0.5282043649922032, 0.7132660031397601, 0.4700735817746279, 0.055726345527094656, 0.015558081026577408]]\n"
          ]
        }
      ],
      "source": [
        "print( selected )"
      ]
    },
    {
      "cell_type": "markdown",
      "metadata": {
        "id": "A6Z_p-HGxP1A"
      },
      "source": [
        "Thus, we end up with a list of individuals in 'selected' that may be able to reproduce into the next generation."
      ]
    },
    {
      "cell_type": "markdown",
      "metadata": {
        "id": "hriSu2LZxP1B"
      },
      "source": [
        "# Mutation"
      ]
    },
    {
      "cell_type": "markdown",
      "metadata": {
        "id": "LpXx9j2IxP1B"
      },
      "source": [
        "- There are a variety of mutation operators in the deap.tools module.\n",
        "- Each mutation has its own characteristics and may be applied to different type of individual.\n",
        "- Be sure to read the documentation of the selected operator in order to avoid undesirable behaviour.\n",
        "\n",
        "To apply a mutation (here a gaussian mutation) on the first individual, simply apply the desired function."
      ]
    },
    {
      "cell_type": "code",
      "execution_count": null,
      "metadata": {
        "colab": {
          "base_uri": "https://localhost:8080/"
        },
        "id": "UP-e8Y_RxP1B",
        "outputId": "f3ca4adc-6bce-42af-876f-b0c889611f4c"
      },
      "outputs": [
        {
          "output_type": "execute_result",
          "data": {
            "text/plain": [
              "[0.7538828436524245,\n",
              " 0.9828546560102246,\n",
              " 0.12756306085729952,\n",
              " 0.03505213601803203,\n",
              " 0.4692170122703325]"
            ]
          },
          "metadata": {},
          "execution_count": 71
        }
      ],
      "source": [
        "pop[0]"
      ]
    },
    {
      "cell_type": "code",
      "execution_count": null,
      "metadata": {
        "colab": {
          "base_uri": "https://localhost:8080/"
        },
        "id": "pEUZ3rRwxP1B",
        "outputId": "bff37716-fe44-40f7-9b9a-b4a66af4495a"
      },
      "outputs": [
        {
          "output_type": "execute_result",
          "data": {
            "text/plain": [
              "([1.3124649223195606,\n",
              "  0.9828546560102246,\n",
              "  0.12756306085729952,\n",
              "  0.03505213601803203,\n",
              "  0.4692170122703325],)"
            ]
          },
          "metadata": {},
          "execution_count": 72
        }
      ],
      "source": [
        "tools.mutGaussian(pop[0], mu=0.0, sigma=0.2, indpb=0.2)"
      ]
    },
    {
      "cell_type": "markdown",
      "metadata": {
        "id": "aWkHXM6txP1B"
      },
      "source": [
        "Mu and sigma are the terms for the Guassian curve, and indpb is the independent probability of mutation per gene."
      ]
    },
    {
      "cell_type": "markdown",
      "metadata": {
        "id": "is86LcVTxP1B"
      },
      "source": [
        "You also need to delete the fitness.value for the individual, because it has changed and needs to be re-evaluated the next time we need to its fitness."
      ]
    },
    {
      "cell_type": "code",
      "execution_count": null,
      "metadata": {
        "id": "omJVmVS4xP1C"
      },
      "outputs": [],
      "source": [
        "del pop[0].fitness.values"
      ]
    },
    {
      "cell_type": "markdown",
      "metadata": {
        "id": "lw5pzi8MxP1C"
      },
      "source": [
        "Mutation operators in DEAP are destructive and mutate the original individual in-place. Thus, if you want to keep the original parent pre-mutation, you must make a copy in advance. You will need to do this, because we often want to select individuals 'with replacement', so that the same individual can be selected multiple times. You can clone an individual using the clone function in the toolbox."
      ]
    },
    {
      "cell_type": "code",
      "execution_count": null,
      "metadata": {
        "id": "ODoTYVY5xP1C"
      },
      "outputs": [],
      "source": [
        "mutant = toolbox1.clone(pop[0])\n",
        "tools.mutGaussian(mutant, mu=0.0, sigma=0.2, indpb=0.2)\n",
        "del mutant.fitness.values"
      ]
    },
    {
      "cell_type": "markdown",
      "metadata": {
        "id": "umzeOlWYxP1C"
      },
      "source": [
        "# Crossover "
      ]
    },
    {
      "cell_type": "markdown",
      "metadata": {
        "id": "7exOuCVSxP1C"
      },
      "source": [
        "- There are a variety of crossover operators in the deap.tools module.\n",
        "- Each operator has its own characteristics and may be applied to different type of individuals.\n",
        "- Be careful to read the documentation of the selected operator in order to avoid undesirable behaviour.\n",
        "\n",
        "As with mutaton, crossover is destructive and thus you often need to make copies of individuals first. Lets apply a crossover operation to produce the two children that are cloned beforehand. Here is an example of cloning the first two individuals in the population and then crossing them over with each other."
      ]
    },
    {
      "cell_type": "code",
      "execution_count": null,
      "metadata": {
        "id": "CoFvMc4-xP1D"
      },
      "outputs": [],
      "source": [
        "child1, child2 = [ toolbox1.clone(ind) for ind in (pop[0], pop[1]) ]\n",
        "tools.cxOnePoint(child1, child2)\n",
        "del child1.fitness.values\n",
        "del child2.fitness.values"
      ]
    },
    {
      "cell_type": "markdown",
      "metadata": {
        "id": "zkK8ztEcxP1D"
      },
      "source": [
        "As with mutation, because you have made a change to the individuals, you need to delete their fitness.values so that they will be re-evaluated next time."
      ]
    },
    {
      "cell_type": "markdown",
      "metadata": {
        "id": "LyN6zKh0xP1D"
      },
      "source": [
        "Note that the crossover function gives us two individuals, because we sliced two togehter."
      ]
    },
    {
      "cell_type": "code",
      "execution_count": null,
      "metadata": {
        "colab": {
          "base_uri": "https://localhost:8080/"
        },
        "id": "DqOvdDcExP1D",
        "outputId": "b87bd6a5-bc01-4afa-c5f9-31784608bbed"
      },
      "outputs": [
        {
          "output_type": "stream",
          "name": "stdout",
          "text": [
            "[1.3124649223195606, 0.9828546560102246, 0.12756306085729952, 0.03505213601803203, 0.4692170122703325]\n",
            "[0.36238189912613217, 0.8118836810943175, 0.5568910399736318, 0.7300983686582364, 0.0020946032788144997]\n"
          ]
        }
      ],
      "source": [
        "print(pop[0])\n",
        "print(pop[1])"
      ]
    },
    {
      "cell_type": "code",
      "execution_count": null,
      "metadata": {
        "colab": {
          "base_uri": "https://localhost:8080/"
        },
        "id": "z-RzjRnBxP1D",
        "outputId": "c4d65c1f-32dc-49f4-b52a-0a808534badd"
      },
      "outputs": [
        {
          "output_type": "stream",
          "name": "stdout",
          "text": [
            "[1.3124649223195606, 0.9828546560102246, 0.12756306085729952, 0.7300983686582364, 0.0020946032788144997]\n",
            "[0.36238189912613217, 0.8118836810943175, 0.5568910399736318, 0.03505213601803203, 0.4692170122703325]\n"
          ]
        }
      ],
      "source": [
        "print(child1)\n",
        "print(child2)"
      ]
    },
    {
      "cell_type": "markdown",
      "metadata": {
        "id": "pk1dhGjJxP1D"
      },
      "source": [
        "Typically you want to implement a probability of crossover."
      ]
    },
    {
      "cell_type": "code",
      "execution_count": null,
      "metadata": {
        "id": "Ec0kYvf4xP1E"
      },
      "outputs": [],
      "source": [
        "cxProb = 0.6\n",
        "\n",
        "if random.random() < cxProb:\n",
        "    child1, child2 = [ toolbox1.clone(ind) for ind in (pop[0], pop[1]) ]\n",
        "    tools.cxOnePoint(child1, child2)\n",
        "    del child1.fitness.values\n",
        "    del child2.fitness.values"
      ]
    },
    {
      "cell_type": "markdown",
      "metadata": {
        "id": "wmsGMKuOxP1E"
      },
      "source": [
        "# Using operators with the toolbox"
      ]
    },
    {
      "cell_type": "markdown",
      "metadata": {
        "id": "g-VHTokmxP1E"
      },
      "source": [
        "So far we have only used the toolbox to represent the individual. But the toolbox is also intended to contain all the evolutionary tools, from the object initializers to the evaluation operator. It allows easy configuration of each algorithms.\n",
        "- The toolbox has basically two methods, register() and unregister(), that are used to add or remove tools from the toolbox.\n",
        "- The usual names for the evolutionary tools are mate(), mutate(), evaluate() and select(), however, any name can be registered as long as it is unique. Here is how they are registered in the toolbox.\n",
        "- The main reason to register with the toolbox is to set up an operator with pre-defined parameters."
      ]
    },
    {
      "cell_type": "markdown",
      "metadata": {
        "id": "FZlcz9R5xP1E"
      },
      "source": [
        "Remember that we have already defined our toolbox when we defined the individual like this"
      ]
    },
    {
      "cell_type": "markdown",
      "metadata": {
        "id": "LlkP-P0oxP1F"
      },
      "source": [
        ">from deap import base  \n",
        ">from deap import tools  \n",
        ">  \n",
        ">toolbox1 = base.Toolbox()  \n",
        ">\n",
        ">toolbox1.register(\"attr_float\", random.random)  \n",
        ">toolbox1.register(\"individual\", tools.initRepeat, creator.Individual, toolbox1.attr_float, n=IND_SIZE)"
      ]
    },
    {
      "cell_type": "markdown",
      "metadata": {
        "id": "jkiKzz56xP1F"
      },
      "source": [
        "You can register your operators with your toolbox like this"
      ]
    },
    {
      "cell_type": "code",
      "execution_count": null,
      "metadata": {
        "id": "4F0wVB78xP1F"
      },
      "outputs": [],
      "source": [
        "def evaluateInd(individual):\n",
        "    # Your evaluation code here\n",
        "    return result,\n",
        "\n",
        "toolbox1.register(\"mate\", tools.cxOnePoint)\n",
        "toolbox1.register(\"mutate\", tools.mutGaussian, mu=0, sigma=1, indpb=0.2)\n",
        "toolbox1.register(\"select\", tools.selTournament, tournsize=3)\n",
        "toolbox1.register(\"evaluate\", evaluateInd)"
      ]
    },
    {
      "cell_type": "markdown",
      "metadata": {
        "id": "dj3veCSlxP1F"
      },
      "source": [
        "Now you can call, for example, mutate by calling the toolbox, and it will use the default parameters that you have registered (unless you override them)."
      ]
    },
    {
      "cell_type": "code",
      "execution_count": null,
      "metadata": {
        "id": "M_XSfUQSxP1F"
      },
      "outputs": [],
      "source": [
        "mutant = toolbox1.clone(pop[0])\n",
        "toolbox1.mutate(mutant)\n",
        "del mutant.fitness.values"
      ]
    },
    {
      "cell_type": "markdown",
      "metadata": {
        "id": "VDtLpucUxP1G"
      },
      "source": [
        "# Tool Decorating"
      ]
    },
    {
      "cell_type": "markdown",
      "metadata": {
        "id": "nNDtBsI5xP1G"
      },
      "source": [
        "A decorator is a wrapper that is called in place of a function. It is asked to make some initialization and termination work before and after the actual function is called. For example, if values need to be constrained, you can apply a decorator to the mutation to keep any individual from going out-of-bounds."
      ]
    },
    {
      "cell_type": "markdown",
      "metadata": {
        "id": "crWNVw1lxP1G"
      },
      "source": [
        "The following defines a decorator that checks if any attribute of the individual is out-of-bounds and clips it if it is the case. The decorator is defined using three functions in order to receive the min and max arguments. Whenever the mutation or crossover is called, bounds will be check on the resulting individuals."
      ]
    },
    {
      "cell_type": "code",
      "execution_count": null,
      "metadata": {
        "id": "2yVdmU49xP1G"
      },
      "outputs": [],
      "source": [
        "def checkBounds(min, max):\n",
        "    def decorator(func):\n",
        "        def wrapper(*args, **kargs):\n",
        "            individuals = func(*args, **kargs)\n",
        "            for indv in individuals:\n",
        "                for i in xrange(len(indv)):\n",
        "                    if indv[i] > max:\n",
        "                        indv[i] = max\n",
        "                    elif indv[i] < min:\n",
        "                        indv[i] = min\n",
        "            return individuals\n",
        "        return wrapper\n",
        "    return decorator\n",
        "\n",
        "toolbox1.register(\"mate_example\", tools.cxBlend, alpha=0.2)\n",
        "toolbox1.register(\"mutate_example\", tools.mutGaussian, mu=0, sigma=2)\n",
        "\n",
        "MIN = 0; MAX = 10\n",
        "\n",
        "toolbox1.decorate(\"mate_example\", checkBounds(MIN, MAX))\n",
        "toolbox1.decorate(\"mutate_example\", checkBounds(MIN, MAX))"
      ]
    },
    {
      "cell_type": "markdown",
      "metadata": {
        "id": "5GDgu4VUxP1G"
      },
      "source": [
        "This will work on crossover and mutation because both return a tuple of individuals. The mutation is often considered to return a single individual but again like for the evaluation, the single individual case is a special case of the multiple individual case."
      ]
    },
    {
      "cell_type": "markdown",
      "metadata": {
        "id": "5rUEIuxkxP1H"
      },
      "source": [
        "# A full example using the simple max-one problem\n",
        "\n",
        "The max-one problem is a simple toy problem that we will use to illustrate a basic GA. Here individuals are represented as bit-strings. Their fitness is evaluated as a function of the number of 1s they have. Its clear that the optimum is an all-ones string. Here is an example of what individuals might look like with a string of length 10.\n",
        "\n",
        "![maxOnes.png](data:image/png;base64,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)\n"
      ]
    },
    {
      "cell_type": "code",
      "execution_count": null,
      "metadata": {
        "id": "VKBWKL0FxP1H"
      },
      "outputs": [],
      "source": [
        "import random\n",
        "from deap import algorithms, base, creator, tools"
      ]
    },
    {
      "cell_type": "markdown",
      "metadata": {
        "id": "8l1zhNzOxP1H"
      },
      "source": [
        "# Defining individuals "
      ]
    },
    {
      "cell_type": "code",
      "execution_count": null,
      "metadata": {
        "scrolled": true,
        "colab": {
          "base_uri": "https://localhost:8080/"
        },
        "id": "sqZtnXLPxP1H",
        "outputId": "526a8d8e-89ba-4ebf-f856-c2f22680de13"
      },
      "outputs": [
        {
          "output_type": "stream",
          "name": "stderr",
          "text": [
            "/usr/local/lib/python3.7/dist-packages/deap/creator.py:141: RuntimeWarning: A class named 'Individual' has already been created and it will be overwritten. Consider deleting previous creation of that class or rename it.\n",
            "  RuntimeWarning)\n"
          ]
        }
      ],
      "source": [
        "creator.create(\"FitnessMax\", base.Fitness, weights=(1.0,))\n",
        "creator.create(\"Individual\", list, fitness=creator.FitnessMax)"
      ]
    },
    {
      "cell_type": "code",
      "execution_count": null,
      "metadata": {
        "id": "e5gPwWLhxP1H"
      },
      "outputs": [],
      "source": [
        "toolbox = base.Toolbox()"
      ]
    },
    {
      "cell_type": "code",
      "execution_count": null,
      "metadata": {
        "id": "s71JkFDHxP1H"
      },
      "outputs": [],
      "source": [
        "toolbox.register(\"attr_bool\", random.randint, 0, 1)\n",
        "toolbox.register(\"individual\", tools.initRepeat, creator.Individual, toolbox.attr_bool, n=100)\n",
        "toolbox.register(\"population\", tools.initRepeat, list, toolbox.individual)"
      ]
    },
    {
      "cell_type": "markdown",
      "metadata": {
        "id": "fmYmUO0qxP1I"
      },
      "source": [
        "# Defining evolutionary operators"
      ]
    },
    {
      "cell_type": "code",
      "execution_count": null,
      "metadata": {
        "id": "6xx5N7z9xP1I"
      },
      "outputs": [],
      "source": [
        "def evalOneMax(individual):\n",
        "    return (sum(individual),)"
      ]
    },
    {
      "cell_type": "code",
      "execution_count": null,
      "metadata": {
        "id": "reOgpeU2xP1I"
      },
      "outputs": [],
      "source": [
        "toolbox.register(\"evaluate\", evalOneMax)\n",
        "toolbox.register(\"select\", tools.selTournament, tournsize=3)\n",
        "\n",
        "toolbox.register(\"mate\", tools.cxUniform, indpb=0.1)\n",
        "toolbox.register(\"mutate\", tools.mutFlipBit, indpb=0.01)\n",
        "\n",
        "logbook = tools.Logbook()"
      ]
    },
    {
      "cell_type": "markdown",
      "metadata": {
        "id": "LmWs6yxCxP1I"
      },
      "source": [
        "# Coding the main body of the algorithm"
      ]
    },
    {
      "cell_type": "code",
      "execution_count": null,
      "metadata": {
        "scrolled": true,
        "colab": {
          "base_uri": "https://localhost:8080/"
        },
        "id": "FiZ8z9dExP1I",
        "outputId": "7385cd06-06c7-4c37-96c2-a2ea35ce3b3d"
      },
      "outputs": [
        {
          "output_type": "stream",
          "name": "stdout",
          "text": [
            "-- Generation 0 --\n",
            "-- Generation 1 --\n",
            "-- Generation 2 --\n",
            "-- Generation 3 --\n",
            "-- Generation 4 --\n",
            "-- Generation 5 --\n",
            "-- Generation 6 --\n",
            "-- Generation 7 --\n",
            "-- Generation 8 --\n",
            "-- Generation 9 --\n",
            "-- Generation 10 --\n",
            "-- Generation 11 --\n",
            "-- Generation 12 --\n",
            "-- Generation 13 --\n",
            "-- Generation 14 --\n",
            "-- Generation 15 --\n",
            "-- Generation 16 --\n",
            "-- Generation 17 --\n",
            "-- Generation 18 --\n",
            "-- Generation 19 --\n",
            "-- Generation 20 --\n",
            "-- Generation 21 --\n",
            "-- Generation 22 --\n",
            "-- Generation 23 --\n",
            "-- Generation 24 --\n",
            "-- Generation 25 --\n",
            "-- Generation 26 --\n",
            "-- Generation 27 --\n",
            "-- Generation 28 --\n",
            "-- Generation 29 --\n",
            "-- Generation 30 --\n",
            "-- Generation 31 --\n",
            "-- Generation 32 --\n",
            "-- Generation 33 --\n",
            "-- Generation 34 --\n",
            "-- Generation 35 --\n",
            "-- Generation 36 --\n",
            "-- Generation 37 --\n",
            "-- Generation 38 --\n",
            "-- Generation 39 --\n",
            "-- Generation 40 --\n",
            "-- Generation 41 --\n",
            "-- Generation 42 --\n",
            "-- Generation 43 --\n",
            "-- Generation 44 --\n",
            "-- Generation 45 --\n",
            "-- Generation 46 --\n",
            "-- Generation 47 --\n",
            "-- Generation 48 --\n",
            "-- Generation 49 --\n"
          ]
        }
      ],
      "source": [
        "pop = toolbox.population(n=300)\n",
        "\n",
        "fitnesses = list(map(toolbox.evaluate, pop))\n",
        "for ind, fit in zip(pop, fitnesses):\n",
        "    ind.fitness.values = fit\n",
        "\n",
        "NGEN = 50\n",
        "\n",
        "for g in range(NGEN):\n",
        "    print(\"-- Generation %i --\" % g)\n",
        "      \n",
        "    offspring = toolbox.select(pop, len(pop))\n",
        "    offspring = list(map(toolbox.clone, offspring))\n",
        "\n",
        "    for child1, child2 in zip(offspring[::2], offspring[1::2]):\n",
        "        toolbox.mate(child1, child2)\n",
        "        del child1.fitness.values\n",
        "        del child2.fitness.values\n",
        "\n",
        "    for mutant in offspring:\n",
        "        toolbox.mutate(mutant)\n",
        "        del mutant.fitness.values\n",
        "                         \n",
        "    invalid_ind = [ind for ind in offspring if not ind.fitness.valid]\n",
        "    fitnesses = map(toolbox.evaluate, invalid_ind)\n",
        "    for ind, fit in zip(invalid_ind, fitnesses):\n",
        "         ind.fitness.values = fit\n",
        "    \n",
        "    pop[:] = offspring\n",
        "    \n",
        "    record = stats.compile(pop)\n",
        "    logbook.record(gen=g, **record)"
      ]
    },
    {
      "cell_type": "markdown",
      "metadata": {
        "id": "G1PGqBpPxP1J"
      },
      "source": [
        "Now let's have a look at the best individual"
      ]
    },
    {
      "cell_type": "code",
      "execution_count": null,
      "metadata": {
        "colab": {
          "base_uri": "https://localhost:8080/"
        },
        "id": "w6o0tZxgxP1J",
        "outputId": "54ebce8c-bfb1-48c8-f26f-26b653a8d37a"
      },
      "outputs": [
        {
          "output_type": "stream",
          "name": "stdout",
          "text": [
            "Best individual is [1, 1, 1, 1, 1, 1, 1, 1, 1, 1, 1, 1, 1, 1, 1, 1, 1, 1, 1, 1, 1, 1, 1, 1, 1, 1, 1, 1, 1, 1, 1, 1, 1, 1, 1, 1, 1, 1, 1, 1, 1, 1, 1, 1, 1, 1, 1, 1, 1, 1, 1, 1, 1, 1, 1, 1, 1, 1, 1, 1, 1, 1, 1, 1, 1, 1, 1, 1, 1, 1, 1, 1, 1, 1, 1, 1, 1, 1, 1, 1, 1, 1, 1, 1, 1, 1, 1, 1, 1, 1, 1, 1, 1, 1, 1, 1, 1, 1, 1, 1]\n",
            "With fitness 100.0\n"
          ]
        }
      ],
      "source": [
        "best_ind = tools.selBest(pop, 1)[0]\n",
        "print(\"Best individual is %s\" % (best_ind))\n",
        "print(\"With fitness %s\" % (best_ind.fitness.values))"
      ]
    },
    {
      "cell_type": "markdown",
      "metadata": {
        "id": "ZvpJFBgZxP1J"
      },
      "source": [
        "An interesting thing about this example is that if you don't have mutation set low, it's difficult to find a good solution. Why is this?"
      ]
    },
    {
      "cell_type": "markdown",
      "metadata": {
        "id": "Z155QeNyxP1J"
      },
      "source": [
        "# Basic statistics for tracking progress"
      ]
    },
    {
      "cell_type": "markdown",
      "metadata": {
        "id": "P5KIlWryxP1J"
      },
      "source": [
        "The toolbox also has a statistics tracker. Below, we define a new statistics tracker. Note that we need to provide it with a function (hence the lambda). All we actually supply is the fitness value, which is the thing we want to perform the statistics on."
      ]
    },
    {
      "cell_type": "code",
      "execution_count": null,
      "metadata": {
        "id": "-Lk31IGBxP1J"
      },
      "outputs": [],
      "source": [
        "stats = tools.Statistics(key=lambda ind: ind.fitness.values)"
      ]
    },
    {
      "cell_type": "markdown",
      "metadata": {
        "id": "Bcwv_SD2xP1K"
      },
      "source": [
        "We then register the statistics that we want to record. Here, we register some basic numpy functions."
      ]
    },
    {
      "cell_type": "code",
      "execution_count": null,
      "metadata": {
        "id": "Bd4xUXCjxP1K"
      },
      "outputs": [],
      "source": [
        "import numpy\n",
        "stats.register(\"avg\", numpy.mean)\n",
        "stats.register(\"std\", numpy.std)\n",
        "stats.register(\"min\", numpy.min)\n",
        "stats.register(\"max\", numpy.max)"
      ]
    },
    {
      "cell_type": "markdown",
      "metadata": {
        "id": "AmwM1E0LxP1K"
      },
      "source": [
        "To record statistics for the current population, all you need to do is use the compile function on the population."
      ]
    },
    {
      "cell_type": "code",
      "execution_count": null,
      "metadata": {
        "id": "a0ag24XQxP1K"
      },
      "outputs": [],
      "source": [
        "record = stats.compile(pop)"
      ]
    },
    {
      "cell_type": "code",
      "execution_count": null,
      "metadata": {
        "colab": {
          "base_uri": "https://localhost:8080/"
        },
        "id": "oiQ-CPsfxP1K",
        "outputId": "181b8043-7f42-493d-99e6-4373045c2907"
      },
      "outputs": [
        {
          "output_type": "stream",
          "name": "stdout",
          "text": [
            "{'avg': 98.06333333333333, 'std': 1.1829295085600926, 'min': 93.0, 'max': 100.0}\n"
          ]
        }
      ],
      "source": [
        "print(record)"
      ]
    },
    {
      "cell_type": "markdown",
      "metadata": {
        "id": "0Mnd8Fx8xP1K"
      },
      "source": [
        "What if we want to log all of the records, e.g., over generations or different runs of our algorithm? For this we could use the logbook within generations."
      ]
    },
    {
      "cell_type": "code",
      "execution_count": null,
      "metadata": {
        "id": "TBVfBBy9xP1L"
      },
      "outputs": [],
      "source": [
        "logbook = tools.Logbook()\n",
        "logbook.record(gen=0, evals=30, **record)"
      ]
    },
    {
      "cell_type": "markdown",
      "metadata": {
        "id": "ZGq4X9UXxP1L"
      },
      "source": [
        "The code creates a logbook and then records the first record. We have added the generation and number of evaluations, and then include all of the statistics that we just took by including the record object. The ** is Python magic to unpack the records. You can then chose to order the logbook."
      ]
    },
    {
      "cell_type": "code",
      "execution_count": null,
      "metadata": {
        "id": "mRwYurukxP1L"
      },
      "outputs": [],
      "source": [
        "logbook.header = \"gen\", \"avg\", \"evals\", \"std\", \"min\", \"max\""
      ]
    },
    {
      "cell_type": "code",
      "execution_count": null,
      "metadata": {
        "scrolled": true,
        "colab": {
          "base_uri": "https://localhost:8080/"
        },
        "id": "zCnpPn6fxP1L",
        "outputId": "e8a911c2-ec94-44ce-b664-d857075b007a"
      },
      "outputs": [
        {
          "output_type": "stream",
          "name": "stdout",
          "text": [
            "gen\tavg    \tevals\tstd    \tmin\tmax\n",
            "0  \t98.0633\t30   \t1.18293\t93 \t100\n"
          ]
        }
      ],
      "source": [
        "print(logbook)"
      ]
    },
    {
      "cell_type": "markdown",
      "metadata": {
        "id": "P3ghg4nZxP1L"
      },
      "source": [
        "# Plotting basic stats"
      ]
    },
    {
      "cell_type": "markdown",
      "metadata": {
        "id": "WpfCnn2ExP1L"
      },
      "source": [
        "We can use MatplotLib to have a look at how our run went."
      ]
    },
    {
      "cell_type": "code",
      "execution_count": null,
      "metadata": {
        "id": "hI2tZI8pxP1M"
      },
      "outputs": [],
      "source": [
        "import matplotlib.pyplot as plt\n",
        "%matplotlib inline"
      ]
    },
    {
      "cell_type": "code",
      "execution_count": null,
      "metadata": {
        "id": "EGVI9lNCxP1M"
      },
      "outputs": [],
      "source": [
        "gen = logbook.select(\"gen\")\n",
        "avgs = logbook.select(\"avg\")\n",
        "stds = logbook.select(\"std\")"
      ]
    },
    {
      "cell_type": "code",
      "execution_count": null,
      "metadata": {
        "scrolled": true,
        "colab": {
          "base_uri": "https://localhost:8080/",
          "height": 304
        },
        "id": "4iEDPor9xP1M",
        "outputId": "625bda67-d57e-41aa-f815-019231bddf32"
      },
      "outputs": [
        {
          "output_type": "execute_result",
          "data": {
            "text/plain": [
              "Text(0, 0.5, 'Mean Fitness')"
            ]
          },
          "metadata": {},
          "execution_count": 120
        },
        {
          "output_type": "display_data",
          "data": {
            "image/png": "[encoded data removed]",
            "text/plain": [
              "<Figure size 432x288 with 1 Axes>"
            ]
          },
          "metadata": {
            "needs_background": "light"
          }
        }
      ],
      "source": [
        "plt.rc('axes', labelsize=14)\n",
        "plt.rc('xtick', labelsize=14)\n",
        "plt.rc('ytick', labelsize=14) \n",
        "plt.rc('legend', fontsize=14)\n",
        "\n",
        "fig, ax1 = plt.subplots()\n",
        "#line1 = ax1.plot(gen, avgs)\n",
        "line1 = ax1.errorbar(gen, avgs, yerr=stds, errorevery=2)\n",
        "ax1.set_xlabel(\"Generation\")\n",
        "ax1.set_ylabel(\"Mean Fitness\")"
      ]
    },
    {
      "cell_type": "markdown",
      "metadata": {
        "id": "tRdGLEFIxP1M"
      },
      "source": [
        "It is important to remember that this is only the result of a single run over time. Because these algorithms are stochastic, you are likely to get a different result every time you run it."
      ]
    },
    {
      "cell_type": "markdown",
      "metadata": {
        "id": "HFnJ6r67xP1M"
      },
      "source": [
        "# Built-in algorithms"
      ]
    },
    {
      "cell_type": "markdown",
      "metadata": {
        "id": "Fw8LmJzIxP1N"
      },
      "source": [
        "DEAP has built-in algorithms that run through all the processes in each generation. We will not be using this for three reasons.\n",
        "1. Because I want you to understand explicitly what is going on in the algorithm.\n",
        "2. I want you to take ownership over every decision taken in the algorithm.\n",
        "3. This will provide you with more flexibility moving forward."
      ]
    },
    {
      "cell_type": "markdown",
      "metadata": {
        "id": "g6UKvQnnxP1N"
      },
      "source": [
        "But for your information, the built-in algorithms can be used as in the example below."
      ]
    },
    {
      "cell_type": "code",
      "execution_count": null,
      "metadata": {
        "id": "0Yw5IlLixP1N"
      },
      "outputs": [],
      "source": [
        "pop = toolbox.population(n=200)"
      ]
    },
    {
      "cell_type": "code",
      "execution_count": null,
      "metadata": {
        "id": "orhNR8BCxP1N"
      },
      "outputs": [],
      "source": [
        "result = algorithms.eaSimple(pop, toolbox, cxpb=0.5, mutpb=0.2, \n",
        "                             ngen=100, verbose=False)"
      ]
    },
    {
      "cell_type": "code",
      "execution_count": null,
      "metadata": {
        "scrolled": true,
        "colab": {
          "base_uri": "https://localhost:8080/"
        },
        "id": "yVH_cYSCxP1N",
        "outputId": "9ad5cd05-65d7-4063-81e0-0d1b1ff881ed"
      },
      "outputs": [
        {
          "output_type": "stream",
          "name": "stdout",
          "text": [
            "Current best fitness: (100,)\n"
          ]
        }
      ],
      "source": [
        "print('Current best fitness:', evalOneMax(tools.selBest(pop, k=1)[0]))"
      ]
    },
    {
      "cell_type": "code",
      "execution_count": null,
      "metadata": {
        "id": "3lneAyqWxP1N"
      },
      "outputs": [],
      "source": [
        ""
      ]
    }
  ],
  "metadata": {
    "kernelspec": {
      "display_name": "Python 3",
      "language": "python",
      "name": "python3"
    },
    "language_info": {
      "codemirror_mode": {
        "name": "ipython",
        "version": 3
      },
      "file_extension": ".py",
      "mimetype": "text/x-python",
      "name": "python",
      "nbconvert_exporter": "python",
      "pygments_lexer": "ipython3",
      "version": "3.8.3"
    },
    "colab": {
      "name": "walkthrough1.ipynb",
      "provenance": [],
      "collapsed_sections": [],
      "include_colab_link": true
    }
  },
  "nbformat": 4,
  "nbformat_minor": 0
}